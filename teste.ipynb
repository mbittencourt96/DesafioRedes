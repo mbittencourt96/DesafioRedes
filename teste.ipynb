{
 "cells": [
  {
   "cell_type": "markdown",
   "metadata": {},
   "source": [
    "# Link prediction - aleatório com random baselines"
   ]
  },
  {
   "cell_type": "code",
   "execution_count": 6,
   "metadata": {},
   "outputs": [
    {
     "data": {
      "text/html": [
       "<div>\n",
       "<style scoped>\n",
       "    .dataframe tbody tr th:only-of-type {\n",
       "        vertical-align: middle;\n",
       "    }\n",
       "\n",
       "    .dataframe tbody tr th {\n",
       "        vertical-align: top;\n",
       "    }\n",
       "\n",
       "    .dataframe thead th {\n",
       "        text-align: right;\n",
       "    }\n",
       "</style>\n",
       "<table border=\"1\" class=\"dataframe\">\n",
       "  <thead>\n",
       "    <tr style=\"text-align: right;\">\n",
       "      <th></th>\n",
       "      <th>linkID</th>\n",
       "      <th>venue1</th>\n",
       "      <th>venue2</th>\n",
       "      <th>link</th>\n",
       "    </tr>\n",
       "  </thead>\n",
       "  <tbody>\n",
       "    <tr>\n",
       "      <th>0</th>\n",
       "      <td>9</td>\n",
       "      <td>mJ_ucQ2_3hfTsmCcKb-hgw</td>\n",
       "      <td>qXGKYRwCR9SLgLl0g_9o5g</td>\n",
       "      <td>0</td>\n",
       "    </tr>\n",
       "    <tr>\n",
       "      <th>1</th>\n",
       "      <td>135</td>\n",
       "      <td>y19xFolCozaRA-gGmHwkQA</td>\n",
       "      <td>F6c3D1o9Z4Tl6cDorb3WgA</td>\n",
       "      <td>0</td>\n",
       "    </tr>\n",
       "    <tr>\n",
       "      <th>2</th>\n",
       "      <td>434</td>\n",
       "      <td>R1GwW4C1gh2Nmue9K0WYVA</td>\n",
       "      <td>Ul6JwluSTm12PVDIqnNaTg</td>\n",
       "      <td>0</td>\n",
       "    </tr>\n",
       "    <tr>\n",
       "      <th>3</th>\n",
       "      <td>262</td>\n",
       "      <td>zzBa0pQjM1gov00bXjYYXg</td>\n",
       "      <td>3D6Uck9QSdxZKFstf5DGlg</td>\n",
       "      <td>1</td>\n",
       "    </tr>\n",
       "    <tr>\n",
       "      <th>4</th>\n",
       "      <td>383</td>\n",
       "      <td>U2d-meX4sVq0kiqcrpHt1w</td>\n",
       "      <td>vuDL_d3GYAtbvX9EJQqVog</td>\n",
       "      <td>0</td>\n",
       "    </tr>\n",
       "    <tr>\n",
       "      <th>...</th>\n",
       "      <td>...</td>\n",
       "      <td>...</td>\n",
       "      <td>...</td>\n",
       "      <td>...</td>\n",
       "    </tr>\n",
       "    <tr>\n",
       "      <th>495</th>\n",
       "      <td>225</td>\n",
       "      <td>aSb4vkaMh7K2lHhnV2UIag</td>\n",
       "      <td>bQ-sXUqPSr4-iJfB764Nzw</td>\n",
       "      <td>1</td>\n",
       "    </tr>\n",
       "    <tr>\n",
       "      <th>496</th>\n",
       "      <td>288</td>\n",
       "      <td>6p39JCOx1L054G9jM10-5g</td>\n",
       "      <td>xwEYTGJ_82ScbpXcheqqQw</td>\n",
       "      <td>0</td>\n",
       "    </tr>\n",
       "    <tr>\n",
       "      <th>497</th>\n",
       "      <td>348</td>\n",
       "      <td>6WItftahZ9lNFJxfDPSJ0Q</td>\n",
       "      <td>XPmZnhnx0YeN8Xvo7y2xsA</td>\n",
       "      <td>0</td>\n",
       "    </tr>\n",
       "    <tr>\n",
       "      <th>498</th>\n",
       "      <td>187</td>\n",
       "      <td>GUriQoD_GHo6DNJlR1_CrA</td>\n",
       "      <td>1w6_xrdhVD-y-DBYpv0YCQ</td>\n",
       "      <td>0</td>\n",
       "    </tr>\n",
       "    <tr>\n",
       "      <th>499</th>\n",
       "      <td>368</td>\n",
       "      <td>CTiWs36A_sX3eahdqrYxUQ</td>\n",
       "      <td>X8wK-tnwx9ATKhQ7q39ILw</td>\n",
       "      <td>1</td>\n",
       "    </tr>\n",
       "  </tbody>\n",
       "</table>\n",
       "<p>500 rows × 4 columns</p>\n",
       "</div>"
      ],
      "text/plain": [
       "     linkID                  venue1                  venue2  link\n",
       "0         9  mJ_ucQ2_3hfTsmCcKb-hgw  qXGKYRwCR9SLgLl0g_9o5g     0\n",
       "1       135  y19xFolCozaRA-gGmHwkQA  F6c3D1o9Z4Tl6cDorb3WgA     0\n",
       "2       434  R1GwW4C1gh2Nmue9K0WYVA  Ul6JwluSTm12PVDIqnNaTg     0\n",
       "3       262  zzBa0pQjM1gov00bXjYYXg  3D6Uck9QSdxZKFstf5DGlg     1\n",
       "4       383  U2d-meX4sVq0kiqcrpHt1w  vuDL_d3GYAtbvX9EJQqVog     0\n",
       "..      ...                     ...                     ...   ...\n",
       "495     225  aSb4vkaMh7K2lHhnV2UIag  bQ-sXUqPSr4-iJfB764Nzw     1\n",
       "496     288  6p39JCOx1L054G9jM10-5g  xwEYTGJ_82ScbpXcheqqQw     0\n",
       "497     348  6WItftahZ9lNFJxfDPSJ0Q  XPmZnhnx0YeN8Xvo7y2xsA     0\n",
       "498     187  GUriQoD_GHo6DNJlR1_CrA  1w6_xrdhVD-y-DBYpv0YCQ     0\n",
       "499     368  CTiWs36A_sX3eahdqrYxUQ  X8wK-tnwx9ATKhQ7q39ILw     1\n",
       "\n",
       "[500 rows x 4 columns]"
      ]
     },
     "execution_count": 6,
     "metadata": {},
     "output_type": "execute_result"
    }
   ],
   "source": [
    "import numpy as np\n",
    "import pandas as pd\n",
    "\n",
    "dfEdgesToEvaluate = pd.read_csv('edgesToEvaluate.csv')\n",
    "\n",
    "random_predictions = np.random.choice([0, 1], size=dfEdgesToEvaluate.shape[0])\n",
    "dfEdgesToEvaluate['link'] = random_predictions\n",
    "\n",
    "dfEdgesToEvaluate"
   ]
  },
  {
   "cell_type": "code",
   "execution_count": 7,
   "metadata": {},
   "outputs": [],
   "source": [
    "dfEdgesToEvaluate.to_csv(\"randomTeste.csv\", columns=['linkID','link'],index=False)"
   ]
  },
  {
   "cell_type": "markdown",
   "metadata": {},
   "source": [
    "# Link prediction - com GAE (Graph AutoEncoder)"
   ]
  },
  {
   "cell_type": "code",
   "execution_count": 41,
   "metadata": {},
   "outputs": [
    {
     "name": "stdout",
     "output_type": "stream",
     "text": [
      "Data(edge_index=[2, 37575], categories=[4575], name=[4575], weight=[37575], x=[4575, 4])\n",
      "\n"
     ]
    }
   ],
   "source": [
    "from torch import nn\n",
    "import torch_geometric.transforms as T\n",
    "import torch.optim as optim\n",
    "from torch_geometric.datasets import Planetoid\n",
    "import torch \n",
    "from torch_geometric.nn import GCNConv\n",
    "from torch_geometric.utils import negative_sampling\n",
    "from torch.nn import ReLU\n",
    "from sklearn.metrics import f1_score\n",
    "from sklearn.metrics import roc_auc_score\n",
    "import numpy as np\n",
    "import networkx as nx\n",
    "from torch_geometric.utils import from_networkx\n",
    "\n",
    "device = torch.device('cuda' if torch.cuda.is_available() else 'cpu')\n",
    "\n",
    "# Importando o grafo do desafio como um dataset\n",
    "G = nx.read_gml('GraphMissingEdges.gml')\n",
    "\n",
    "for n in G.nodes( ):\n",
    "    G.nodes[n]['stars'] = float(G.nodes[n]['stars' ])\n",
    "    G.nodes[n]['reviewCount'] = int(G.nodes[n]['reviewCount'])\n",
    "\n",
    "data = from_networkx(G,group_node_attrs=['longitude','latitude','stars','reviewCount'])\n",
    "\n",
    "print(data)\n",
    "print()\n"
   ]
  },
  {
   "cell_type": "code",
   "execution_count": 42,
   "metadata": {},
   "outputs": [
    {
     "name": "stdout",
     "output_type": "stream",
     "text": [
      "Data(edge_index=[2, 30386], categories=[4575], name=[4575], weight=[30386], x=[4575, 4], edge_label=[15193], edge_label_index=[2, 15193])\n",
      "-----\n",
      "Data(edge_index=[2, 34184], categories=[4575], name=[4575], weight=[34184], x=[4575, 4], edge_label=[3798], edge_label_index=[2, 3798])\n",
      "\n",
      "Data(edge_index=[2, 30386], categories=[4575], name=[4575], weight=[30386], x=[4575, 4], edge_label=[15193], edge_label_index=[2, 15193])\n",
      "Data(edge_index=[2, 30386], categories=[4575], name=[4575], weight=[30386], x=[4575, 4], edge_label=[3798], edge_label_index=[2, 3798])\n"
     ]
    }
   ],
   "source": [
    "data.train_mask = data.val_mask = data.test_mask = None\n",
    "\n",
    "transform = T.Compose([\n",
    "    T.NormalizeFeatures(),\n",
    "    T.ToDevice(device),\n",
    "    T.RandomLinkSplit(num_val=0.10, num_test=0.10, neg_sampling_ratio = 1.0,\n",
    "                  is_undirected=True, add_negative_train_samples=False)\n",
    "])\n",
    "\n",
    "train_data, val_data, test_data = transform(data)\n",
    "train_data = train_data.to(device)\n",
    "val_data=val_data.to(device)\n",
    "test_data = test_data.to(device)\n",
    "\n",
    "\n",
    "print(train_data)\n",
    "print('-----')\n",
    "print(test_data)\n",
    "print()\n",
    "print(train_data)\n",
    "print(val_data)"
   ]
  },
  {
   "cell_type": "code",
   "execution_count": 43,
   "metadata": {},
   "outputs": [],
   "source": [
    "# Define encoder\n",
    "\n",
    "class GCNEncoder(torch.nn.Module):\n",
    "    def __init__(self, in_channels, out_channels):\n",
    "        super(GCNEncoder, self).__init__()\n",
    "        self.conv1 = GCNConv(in_channels, 2 * out_channels) \n",
    "        self.conv2 = GCNConv(2 * out_channels, out_channels)\n",
    "\n",
    "    def encode(self, x, edge_index):\n",
    "        x = self.conv1(x, edge_index).relu()\n",
    "        return self.conv2(x, edge_index)\n",
    "    \n",
    "    def decode(self, z, edge_label_index):\n",
    "        return (z[edge_label_index[0]] * z[edge_label_index[1]]).sum(dim=-1)"
   ]
  },
  {
   "cell_type": "code",
   "execution_count": 44,
   "metadata": {},
   "outputs": [
    {
     "name": "stdout",
     "output_type": "stream",
     "text": [
      "GCNEncoder(\n",
      "  (conv1): GCNConv(4, 128)\n",
      "  (conv2): GCNConv(128, 64)\n",
      ")\n"
     ]
    }
   ],
   "source": [
    "# parâmetros\n",
    "out_channels = 64\n",
    "num_features = data.num_node_features\n",
    "\n",
    "epochs = 100\n",
    "\n",
    "# modelo - Graph Auto-Encoder (GAE)\n",
    "model = GCNEncoder(num_features, out_channels)\n",
    "model = model.to(device)\n",
    "\n",
    "criterion = torch.nn.BCEWithLogitsLoss()\n",
    "\n",
    "print(model)\n",
    "\n",
    "\n",
    "# inicialização o optimizador\n",
    "optimizer = torch.optim.Adam(model.parameters(), lr=0.01)"
   ]
  },
  {
   "cell_type": "code",
   "execution_count": 45,
   "metadata": {},
   "outputs": [],
   "source": [
    "def train(data):\n",
    "    model.train()\n",
    "    optimizer.zero_grad()\n",
    "    z = model.encode(data.x, data.edge_index)\n",
    "\n",
    "    # Nova rodada de amostragem negativa para cada época de treinamento:\n",
    "    neg_edge_index = negative_sampling(\n",
    "        edge_index=train_data.edge_index, num_nodes=train_data.num_nodes,\n",
    "        num_neg_samples=train_data.edge_label_index.size(1))\n",
    "\n",
    "    edge_label_index = torch.cat(\n",
    "        [train_data.edge_label_index, neg_edge_index],\n",
    "        dim=-1,\n",
    "    )\n",
    "    edge_label = torch.cat([\n",
    "        train_data.edge_label,\n",
    "        train_data.edge_label.new_zeros(neg_edge_index.size(1))\n",
    "    ], dim=0)\n",
    "\n",
    "    out = model.decode(z, edge_label_index).view(-1)\n",
    "    loss = criterion(out, edge_label)\n",
    "    loss.backward()\n",
    "    optimizer.step()\n",
    "    return loss\n",
    "\n",
    "\n",
    "def test(data):\n",
    "    model.eval()\n",
    "    with torch.no_grad():\n",
    "        z = model.encode(data.x, data.edge_index)\n",
    "    \n",
    "    out = model.decode(z, data.edge_label_index).sigmoid()\n",
    "    return roc_auc_score(data.edge_label.cpu().numpy(), out.cpu().numpy())"
   ]
  },
  {
   "cell_type": "code",
   "execution_count": 46,
   "metadata": {},
   "outputs": [
    {
     "name": "stdout",
     "output_type": "stream",
     "text": [
      "Epoch: 001, loss: 0.6500, AUC val: 0.8357\n",
      "Epoch: 002, loss: 0.6562, AUC val: 0.8418\n",
      "Epoch: 003, loss: 0.6238, AUC val: 0.8491\n",
      "Epoch: 004, loss: 0.6283, AUC val: 0.8542\n",
      "Epoch: 005, loss: 0.6257, AUC val: 0.8559\n",
      "Epoch: 006, loss: 0.6149, AUC val: 0.8556\n",
      "Epoch: 007, loss: 0.6058, AUC val: 0.8569\n",
      "Epoch: 008, loss: 0.6054, AUC val: 0.8608\n",
      "Epoch: 009, loss: 0.5963, AUC val: 0.8666\n",
      "Epoch: 010, loss: 0.5854, AUC val: 0.8718\n",
      "Epoch: 011, loss: 0.5817, AUC val: 0.8741\n",
      "Epoch: 012, loss: 0.5766, AUC val: 0.8745\n",
      "Epoch: 013, loss: 0.5687, AUC val: 0.8743\n",
      "Epoch: 014, loss: 0.5646, AUC val: 0.8756\n",
      "Epoch: 015, loss: 0.5609, AUC val: 0.8767\n",
      "Epoch: 016, loss: 0.5520, AUC val: 0.8599\n",
      "Epoch: 017, loss: 0.5490, AUC val: 0.8545\n",
      "Epoch: 018, loss: 0.5435, AUC val: 0.8649\n",
      "Epoch: 019, loss: 0.5350, AUC val: 0.8703\n",
      "Epoch: 020, loss: 0.5382, AUC val: 0.8516\n",
      "Epoch: 021, loss: 0.5321, AUC val: 0.8246\n",
      "Epoch: 022, loss: 0.5296, AUC val: 0.8248\n",
      "Epoch: 023, loss: 0.5237, AUC val: 0.8440\n",
      "Epoch: 024, loss: 0.5239, AUC val: 0.8443\n",
      "Epoch: 025, loss: 0.5235, AUC val: 0.8209\n",
      "Epoch: 026, loss: 0.5202, AUC val: 0.8039\n",
      "Epoch: 027, loss: 0.5179, AUC val: 0.8181\n",
      "Epoch: 028, loss: 0.5160, AUC val: 0.8316\n",
      "Epoch: 029, loss: 0.5244, AUC val: 0.8160\n",
      "Epoch: 030, loss: 0.5173, AUC val: 0.7963\n",
      "Epoch: 031, loss: 0.5160, AUC val: 0.8099\n",
      "Epoch: 032, loss: 0.5150, AUC val: 0.8245\n",
      "Epoch: 033, loss: 0.5170, AUC val: 0.8146\n",
      "Epoch: 034, loss: 0.5117, AUC val: 0.7999\n",
      "Epoch: 035, loss: 0.5184, AUC val: 0.8029\n",
      "Epoch: 036, loss: 0.5172, AUC val: 0.8172\n",
      "Epoch: 037, loss: 0.5174, AUC val: 0.8147\n",
      "Epoch: 038, loss: 0.5150, AUC val: 0.8040\n",
      "Epoch: 039, loss: 0.5142, AUC val: 0.8076\n",
      "Epoch: 040, loss: 0.5216, AUC val: 0.8154\n",
      "Epoch: 041, loss: 0.5176, AUC val: 0.8148\n",
      "Epoch: 042, loss: 0.5117, AUC val: 0.8119\n",
      "Epoch: 043, loss: 0.5165, AUC val: 0.8119\n",
      "Epoch: 044, loss: 0.5150, AUC val: 0.8186\n",
      "Epoch: 045, loss: 0.5115, AUC val: 0.8233\n",
      "Epoch: 046, loss: 0.5140, AUC val: 0.8174\n",
      "Epoch: 047, loss: 0.5136, AUC val: 0.8152\n",
      "Epoch: 048, loss: 0.5135, AUC val: 0.8246\n",
      "Epoch: 049, loss: 0.5120, AUC val: 0.8311\n",
      "Epoch: 050, loss: 0.5125, AUC val: 0.8241\n",
      "Epoch: 051, loss: 0.5084, AUC val: 0.8222\n",
      "Epoch: 052, loss: 0.5138, AUC val: 0.8262\n",
      "Epoch: 053, loss: 0.5098, AUC val: 0.8332\n",
      "Epoch: 054, loss: 0.5157, AUC val: 0.8267\n",
      "Epoch: 055, loss: 0.5121, AUC val: 0.8218\n",
      "Epoch: 056, loss: 0.5119, AUC val: 0.8287\n",
      "Epoch: 057, loss: 0.5121, AUC val: 0.8343\n",
      "Epoch: 058, loss: 0.5117, AUC val: 0.8286\n",
      "Epoch: 059, loss: 0.5090, AUC val: 0.8274\n",
      "Epoch: 060, loss: 0.5100, AUC val: 0.8318\n",
      "Epoch: 061, loss: 0.5107, AUC val: 0.8318\n",
      "Epoch: 062, loss: 0.5100, AUC val: 0.8275\n",
      "Epoch: 063, loss: 0.5099, AUC val: 0.8268\n",
      "Epoch: 064, loss: 0.5106, AUC val: 0.8300\n",
      "Epoch: 065, loss: 0.5082, AUC val: 0.8320\n",
      "Epoch: 066, loss: 0.5112, AUC val: 0.8232\n",
      "Epoch: 067, loss: 0.5130, AUC val: 0.8245\n",
      "Epoch: 068, loss: 0.5127, AUC val: 0.8315\n",
      "Epoch: 069, loss: 0.5131, AUC val: 0.8259\n",
      "Epoch: 070, loss: 0.5091, AUC val: 0.8277\n",
      "Epoch: 071, loss: 0.5075, AUC val: 0.8307\n",
      "Epoch: 072, loss: 0.5071, AUC val: 0.8282\n",
      "Epoch: 073, loss: 0.5094, AUC val: 0.8260\n",
      "Epoch: 074, loss: 0.5069, AUC val: 0.8305\n",
      "Epoch: 075, loss: 0.5073, AUC val: 0.8303\n",
      "Epoch: 076, loss: 0.5099, AUC val: 0.8244\n",
      "Epoch: 077, loss: 0.5087, AUC val: 0.8274\n",
      "Epoch: 078, loss: 0.5071, AUC val: 0.8336\n",
      "Epoch: 079, loss: 0.5103, AUC val: 0.8250\n",
      "Epoch: 080, loss: 0.5102, AUC val: 0.8262\n",
      "Epoch: 081, loss: 0.5112, AUC val: 0.8323\n",
      "Epoch: 082, loss: 0.5109, AUC val: 0.8267\n",
      "Epoch: 083, loss: 0.5114, AUC val: 0.8280\n",
      "Epoch: 084, loss: 0.5105, AUC val: 0.8313\n",
      "Epoch: 085, loss: 0.5059, AUC val: 0.8314\n",
      "Epoch: 086, loss: 0.5068, AUC val: 0.8273\n",
      "Epoch: 087, loss: 0.5094, AUC val: 0.8281\n",
      "Epoch: 088, loss: 0.5082, AUC val: 0.8312\n",
      "Epoch: 089, loss: 0.5108, AUC val: 0.8282\n",
      "Epoch: 090, loss: 0.5116, AUC val: 0.8265\n",
      "Epoch: 091, loss: 0.5098, AUC val: 0.8331\n",
      "Epoch: 092, loss: 0.5104, AUC val: 0.8284\n",
      "Epoch: 093, loss: 0.5081, AUC val: 0.8290\n",
      "Epoch: 094, loss: 0.5124, AUC val: 0.8301\n",
      "Epoch: 095, loss: 0.5077, AUC val: 0.8319\n",
      "Epoch: 096, loss: 0.5086, AUC val: 0.8266\n",
      "Epoch: 097, loss: 0.5110, AUC val: 0.8281\n",
      "Epoch: 098, loss: 0.5109, AUC val: 0.8327\n",
      "Epoch: 099, loss: 0.5110, AUC val: 0.8302\n",
      "Epoch: 100, loss: 0.5121, AUC val: 0.8271\n"
     ]
    }
   ],
   "source": [
    "for epoch in range(1, epochs + 1):\n",
    "    loss = train(train_data)\n",
    "\n",
    "    auc = test(val_data)\n",
    "    print('Epoch: {:03d}, loss: {:.4f}, AUC val: {:.4f}'.format(epoch, loss, auc))"
   ]
  },
  {
   "cell_type": "code",
   "execution_count": 47,
   "metadata": {},
   "outputs": [
    {
     "name": "stdout",
     "output_type": "stream",
     "text": [
      "test: 0.8517\n"
     ]
    }
   ],
   "source": [
    "#Teste\n",
    "auc = test(test_data)\n",
    "print('test: {:.4f}'.format( auc))"
   ]
  },
  {
   "cell_type": "code",
   "execution_count": 48,
   "metadata": {},
   "outputs": [
    {
     "name": "stdout",
     "output_type": "stream",
     "text": [
      "tensor([0.5000])\n",
      "0.7416958041958042\n",
      "\n",
      "Testando com mais limites de corte:\n",
      "\n"
     ]
    }
   ],
   "source": [
    "# Decodificação do teste expandida\n",
    "\n",
    "z = model.encode(test_data.x, test_data.edge_index)\n",
    "\n",
    "temp = model.decode(z, test_data.edge_label_index).sigmoid()\n",
    "\n",
    "threshold = torch.tensor([0.5]).to(device)\n",
    "\n",
    "#Atribui 0 ou 1 de acordo com o threshold\n",
    "results = (temp>threshold).float()\n",
    "\n",
    "print(threshold)\n",
    "print(f1_score(test_data.edge_label.cpu().numpy() ,results.cpu().numpy() ))\n",
    "\n",
    "print()\n",
    "print(\"Testando com mais limites de corte:\")\n",
    "print()\n",
    "\n",
    "for i in np.arange(0.1, 0.9, 0.01):\n",
    "    threshold = torch.tensor([i]).to(device)\n",
    "    results = (temp>threshold).float()\n",
    "\n",
    "    \n",
    "    if (f1_score(test_data.edge_label.cpu().numpy() ,results.cpu().numpy() ) > 0.80):\n",
    "        print(threshold)\n",
    "        print(f1_score(test_data.edge_label.cpu().numpy() ,results.cpu().numpy() ))\n",
    "        print('---')\n"
   ]
  },
  {
   "cell_type": "code",
   "execution_count": 15,
   "metadata": {},
   "outputs": [
    {
     "data": {
      "text/plain": [
       "tensor([0., 0., 0.,  ..., 0., 0., 0.])"
      ]
     },
     "execution_count": 15,
     "metadata": {},
     "output_type": "execute_result"
    }
   ],
   "source": [
    "results"
   ]
  }
 ],
 "metadata": {
  "interpreter": {
   "hash": "98590ff4fe04c8543246b2a01debd3de3c5ca9b666f43f1fa87d5110c692004c"
  },
  "kernelspec": {
   "display_name": "Python 3.10.4 64-bit",
   "name": "python3"
  },
  "language_info": {
   "codemirror_mode": {
    "name": "ipython",
    "version": 3
   },
   "file_extension": ".py",
   "mimetype": "text/x-python",
   "name": "python",
   "nbconvert_exporter": "python",
   "pygments_lexer": "ipython3",
   "version": "3.10.4"
  },
  "orig_nbformat": 4
 },
 "nbformat": 4,
 "nbformat_minor": 2
}